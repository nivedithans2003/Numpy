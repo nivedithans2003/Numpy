{
  "cells": [
    {
      "cell_type": "markdown",
      "metadata": {
        "id": "PB_rEUwC1r-A"
      },
      "source": [
        "*Data Creation:**Create suitable arrays to represent students, subjects, and their marks.\n",
        "\n",
        "\n"
      ]
    },
    {
      "cell_type": "code",
      "execution_count": 6,
      "metadata": {
        "id": "w4fJ2rbN1v3u"
      },
      "outputs": [],
      "source": [
        "import random"
      ]
    },
    {
      "cell_type": "code",
      "execution_count": 7,
      "metadata": {
        "colab": {
          "base_uri": "https://localhost:8080/"
        },
        "id": "Ga4Bze4-11J_",
        "outputId": "7d476519-255e-44e0-a338-9800e73cc388"
      },
      "outputs": [
        {
          "name": "stdout",
          "output_type": "stream",
          "text": [
            "[[63, 75, 53], [64, 87, 52], [63, 86, 70], [78, 56, 100], [54, 100, 82]]\n",
            "[[ 63  75  53]\n",
            " [ 64  87  52]\n",
            " [ 63  86  70]\n",
            " [ 78  56 100]\n",
            " [ 54 100  82]]\n"
          ]
        }
      ],
      "source": [
        "import numpy as np\n",
        "num_stud=5\n",
        "num_sub=3\n",
        "marks=[[random.randint(50,100) for _ in range(num_sub)] for _ in range(num_stud)]\n",
        "print(marks)\n",
        "res=np.vstack((marks))\n",
        "print(res)"
      ]
    },
    {
      "cell_type": "markdown",
      "metadata": {
        "id": "4-3vB-DN19mk"
      },
      "source": [
        "Data Exploration:**Explore the properties of these arrays — such as their dimensions, size, and structure."
      ]
    },
    {
      "cell_type": "code",
      "execution_count": 8,
      "metadata": {
        "colab": {
          "base_uri": "https://localhost:8080/"
        },
        "id": "oSLvGoXV1-pA",
        "outputId": "f109f10c-65bb-4378-b190-679b940c5f0f"
      },
      "outputs": [
        {
          "name": "stdout",
          "output_type": "stream",
          "text": [
            "shape (5, 3)\n",
            "size 15\n",
            "ndim 2\n",
            "dtype int64\n"
          ]
        }
      ],
      "source": [
        "print(\"shape\",res.shape)\n",
        "print(\"size\",res.size)\n",
        "print(\"ndim\",res.ndim)\n",
        "print(\"dtype\",res.dtype)\n"
      ]
    },
    {
      "cell_type": "markdown",
      "metadata": {
        "id": "-yEnUYaF2GTA"
      },
      "source": [
        "Data Transformation:**Perform necessary reshaping and reorganization of the data to suit various operations."
      ]
    },
    {
      "cell_type": "code",
      "execution_count": 9,
      "metadata": {
        "colab": {
          "base_uri": "https://localhost:8080/"
        },
        "id": "_n5CYB-X2H-U",
        "outputId": "03593312-3042-4ef9-e36f-7095f1c3d752"
      },
      "outputs": [
        {
          "name": "stdout",
          "output_type": "stream",
          "text": [
            "Flattend Marks: [ 63  75  53  64  87  52  63  86  70  78  56 100  54 100  82]\n",
            "[[ 63  75  53]\n",
            " [ 64  87  52]\n",
            " [ 63  86  70]\n",
            " [ 78  56 100]\n",
            " [ 54 100  82]]\n"
          ]
        }
      ],
      "source": [
        "flat_marks=res.flatten()\n",
        "print(\"Flattend Marks:\",flat_marks)\n",
        "\n",
        "reshaped_marks=flat_marks.reshape(num_stud,num_sub)\n",
        "print(reshaped_marks)"
      ]
    },
    {
      "cell_type": "markdown",
      "metadata": {
        "id": "w2wnwgX52MEE"
      },
      "source": [
        "Data Combination:**Merge or split arrays to simulate adding new students, new subjects, or reorganizing the dataset."
      ]
    },
    {
      "cell_type": "code",
      "execution_count": 10,
      "metadata": {
        "colab": {
          "base_uri": "https://localhost:8080/"
        },
        "id": "luCf-DIl2PAU",
        "outputId": "eea8a113-2e57-48ff-a61d-f863df2da6f8"
      },
      "outputs": [
        {
          "name": "stdout",
          "output_type": "stream",
          "text": [
            "[[ 91 100  99]]\n",
            "Adding a New Student:\n",
            " [[ 63  75  53]\n",
            " [ 64  87  52]\n",
            " [ 63  86  70]\n",
            " [ 78  56 100]\n",
            " [ 54 100  82]\n",
            " [ 91 100  99]]\n",
            "\n",
            " [[67]\n",
            " [57]\n",
            " [62]\n",
            " [99]\n",
            " [56]\n",
            " [96]]\n",
            "Adding a New Student:\n",
            " [[ 63  75  53  67]\n",
            " [ 64  87  52  57]\n",
            " [ 63  86  70  62]\n",
            " [ 78  56 100  99]\n",
            " [ 54 100  82  56]\n",
            " [ 91 100  99  96]]\n"
          ]
        }
      ],
      "source": [
        "new_student=np.array([[random.randint(50,100) for _ in range(num_sub)]])\n",
        "updated_marks=np.vstack((res,new_student))\n",
        "print(new_student)\n",
        "print(\"Adding a New Student:\\n\",updated_marks)\n",
        "\n",
        "new_subject=np.array([[random.randint(50,100)] for _ in range(updated_marks.shape[0])])\n",
        "extended_marks=np.hstack((updated_marks,new_subject))\n",
        "print(\"\\n\",new_subject)\n",
        "print(\"Adding a New Student:\\n\",extended_marks)"
      ]
    },
    {
      "cell_type": "markdown",
      "metadata": {
        "id": "uRQwKSnC2TIZ"
      },
      "source": [
        "Data Modification:**Apply operations to update marks, remove data, or identify unique information."
      ]
    },
    {
      "cell_type": "code",
      "execution_count": 11,
      "metadata": {
        "colab": {
          "base_uri": "https://localhost:8080/"
        },
        "id": "BrX7k6-O2X-P",
        "outputId": "c51f1e73-a2c3-412b-b3a7-ca052f386ca0"
      },
      "outputs": [
        {
          "name": "stdout",
          "output_type": "stream",
          "text": [
            "After Updating 2nd Student's 1st Subject Marks\n",
            " [[ 63  75  53  67]\n",
            " [ 99  87  52  57]\n",
            " [ 63  86  70  62]\n",
            " [ 78  56 100  99]\n",
            " [ 54 100  82  56]\n",
            " [ 91 100  99  96]]\n",
            "\n",
            "After Removing 3rd Student\n",
            " [[ 63  75  53  67]\n",
            " [ 99  87  52  57]\n",
            " [ 78  56 100  99]\n",
            " [ 54 100  82  56]\n",
            " [ 91 100  99  96]]\n",
            "\n",
            "Unique Marks in Dataset\n",
            " [ 52  53  54  56  57  63  67  75  78  82  87  91  96  99 100]\n"
          ]
        }
      ],
      "source": [
        "extended_marks[1][0]=99\n",
        "print(\"After Updating 2nd Student's 1st Subject Marks\\n\",extended_marks)\n",
        "\n",
        "removed_marks=np.delete(extended_marks,2,axis=0)\n",
        "print(\"\\nAfter Removing 3rd Student\\n\",removed_marks)\n",
        "\n",
        "unique_marks=np.unique(removed_marks)\n",
        "print(\"\\nUnique Marks in Dataset\\n\",unique_marks)\n"
      ]
    },
    {
      "cell_type": "markdown",
      "metadata": {
        "id": "LVgi8qY52auD"
      },
      "source": [
        "Data Type Handling:**Demonstrate how the same data can exist in different data types and how changes affect results."
      ]
    },
    {
      "cell_type": "code",
      "execution_count": 12,
      "metadata": {
        "colab": {
          "base_uri": "https://localhost:8080/"
        },
        "id": "DGtVcHKE2ep3",
        "outputId": "38a06866-95f0-4c19-a085-d15ed5b93d86"
      },
      "outputs": [
        {
          "name": "stdout",
          "output_type": "stream",
          "text": [
            "Converted to Float Type\n",
            " [[ 63.  75.  53.  67.]\n",
            " [ 99.  87.  52.  57.]\n",
            " [ 63.  86.  70.  62.]\n",
            " [ 78.  56. 100.  99.]\n",
            " [ 54. 100.  82.  56.]\n",
            " [ 91. 100.  99.  96.]]\n",
            "\n",
            "Converted Back to Type\n",
            " [[ 63  75  53  67]\n",
            " [ 99  87  52  57]\n",
            " [ 63  86  70  62]\n",
            " [ 78  56 100  99]\n",
            " [ 54 100  82  56]\n",
            " [ 91 100  99  96]]\n"
          ]
        }
      ],
      "source": [
        "float_marks=extended_marks.astype(float)\n",
        "print(\"Converted to Float Type\\n\",float_marks)\n",
        "int_marks=float_marks.astype(int)\n",
        "print(\"\\nConverted Back to Type\\n\",int_marks)"
      ]
    }
  ],
  "metadata": {
    "colab": {
      "provenance": []
    },
    "kernelspec": {
      "display_name": "Python 3",
      "name": "python3"
    },
    "language_info": {
      "name": "python"
    }
  },
  "nbformat": 4,
  "nbformat_minor": 0
}
